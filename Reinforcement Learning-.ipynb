{
 "cells": [
  {
   "cell_type": "code",
   "execution_count": 1,
   "metadata": {},
   "outputs": [],
   "source": [
    "import numpy as np\n",
    "import random\n",
    "import matplotlib.pyplot as plt\n",
    "%matplotlib inline\n",
    "np.random.seed(5)"
   ]
  },
  {
   "cell_type": "code",
   "execution_count": 4,
   "metadata": {},
   "outputs": [
    {
     "name": "stdout",
     "output_type": "stream",
     "text": [
      "Collecting tensorflow\n",
      "\u001b[33m  Retrying (Retry(total=4, connect=None, read=None, redirect=None, status=None)) after connection broken by 'NewConnectionError('<pip._vendor.urllib3.connection.VerifiedHTTPSConnection object at 0x7f25e3354e48>: Failed to establish a new connection: [Errno -2] Name or service not known')': /simple/tensorflow/\u001b[0m\n",
      "\u001b[?25l  Downloading https://files.pythonhosted.org/packages/d4/29/6b4f1e02417c3a1ccc85380f093556ffd0b35dc354078074c5195c8447f2/tensorflow-1.13.1-cp37-cp37m-manylinux1_x86_64.whl (92.6MB)\n",
      "\u001b[K    0% |▏                               | 409kB 3.8kB/s eta 6:46:27\u001b[31mException:\n",
      "Traceback (most recent call last):\n",
      "  File \"/home/bideen/anaconda3/lib/python3.7/site-packages/pip/_vendor/urllib3/contrib/pyopenssl.py\", line 294, in recv_into\n",
      "    return self.connection.recv_into(*args, **kwargs)\n",
      "  File \"/home/bideen/anaconda3/lib/python3.7/site-packages/OpenSSL/SSL.py\", line 1814, in recv_into\n",
      "    self._raise_ssl_error(self._ssl, result)\n",
      "  File \"/home/bideen/anaconda3/lib/python3.7/site-packages/OpenSSL/SSL.py\", line 1614, in _raise_ssl_error\n",
      "    raise WantReadError()\n",
      "OpenSSL.SSL.WantReadError\n",
      "\n",
      "During handling of the above exception, another exception occurred:\n",
      "\n",
      "Traceback (most recent call last):\n",
      "  File \"/home/bideen/anaconda3/lib/python3.7/site-packages/pip/_vendor/urllib3/response.py\", line 360, in _error_catcher\n",
      "    yield\n",
      "  File \"/home/bideen/anaconda3/lib/python3.7/site-packages/pip/_vendor/urllib3/response.py\", line 442, in read\n",
      "    data = self._fp.read(amt)\n",
      "  File \"/home/bideen/anaconda3/lib/python3.7/site-packages/pip/_vendor/cachecontrol/filewrapper.py\", line 62, in read\n",
      "    data = self.__fp.read(amt)\n",
      "  File \"/home/bideen/anaconda3/lib/python3.7/http/client.py\", line 447, in read\n",
      "    n = self.readinto(b)\n",
      "  File \"/home/bideen/anaconda3/lib/python3.7/http/client.py\", line 491, in readinto\n",
      "    n = self.fp.readinto(b)\n",
      "  File \"/home/bideen/anaconda3/lib/python3.7/socket.py\", line 589, in readinto\n",
      "    return self._sock.recv_into(b)\n",
      "  File \"/home/bideen/anaconda3/lib/python3.7/site-packages/pip/_vendor/urllib3/contrib/pyopenssl.py\", line 307, in recv_into\n",
      "    raise timeout('The read operation timed out')\n",
      "socket.timeout: The read operation timed out\n",
      "\n",
      "During handling of the above exception, another exception occurred:\n",
      "\n",
      "Traceback (most recent call last):\n",
      "  File \"/home/bideen/anaconda3/lib/python3.7/site-packages/pip/_internal/cli/base_command.py\", line 179, in main\n",
      "    status = self.run(options, args)\n",
      "  File \"/home/bideen/anaconda3/lib/python3.7/site-packages/pip/_internal/commands/install.py\", line 315, in run\n",
      "    resolver.resolve(requirement_set)\n",
      "  File \"/home/bideen/anaconda3/lib/python3.7/site-packages/pip/_internal/resolve.py\", line 131, in resolve\n",
      "    self._resolve_one(requirement_set, req)\n",
      "  File \"/home/bideen/anaconda3/lib/python3.7/site-packages/pip/_internal/resolve.py\", line 294, in _resolve_one\n",
      "    abstract_dist = self._get_abstract_dist_for(req_to_install)\n",
      "  File \"/home/bideen/anaconda3/lib/python3.7/site-packages/pip/_internal/resolve.py\", line 242, in _get_abstract_dist_for\n",
      "    self.require_hashes\n",
      "  File \"/home/bideen/anaconda3/lib/python3.7/site-packages/pip/_internal/operations/prepare.py\", line 334, in prepare_linked_requirement\n",
      "    progress_bar=self.progress_bar\n",
      "  File \"/home/bideen/anaconda3/lib/python3.7/site-packages/pip/_internal/download.py\", line 878, in unpack_url\n",
      "    progress_bar=progress_bar\n",
      "  File \"/home/bideen/anaconda3/lib/python3.7/site-packages/pip/_internal/download.py\", line 702, in unpack_http_url\n",
      "    progress_bar)\n",
      "  File \"/home/bideen/anaconda3/lib/python3.7/site-packages/pip/_internal/download.py\", line 946, in _download_http_url\n",
      "    _download_url(resp, link, content_file, hashes, progress_bar)\n",
      "  File \"/home/bideen/anaconda3/lib/python3.7/site-packages/pip/_internal/download.py\", line 639, in _download_url\n",
      "    hashes.check_against_chunks(downloaded_chunks)\n",
      "  File \"/home/bideen/anaconda3/lib/python3.7/site-packages/pip/_internal/utils/hashes.py\", line 62, in check_against_chunks\n",
      "    for chunk in chunks:\n",
      "  File \"/home/bideen/anaconda3/lib/python3.7/site-packages/pip/_internal/download.py\", line 607, in written_chunks\n",
      "    for chunk in chunks:\n",
      "  File \"/home/bideen/anaconda3/lib/python3.7/site-packages/pip/_internal/utils/ui.py\", line 159, in iter\n",
      "    for x in it:\n",
      "  File \"/home/bideen/anaconda3/lib/python3.7/site-packages/pip/_internal/download.py\", line 596, in resp_read\n",
      "    decode_content=False):\n",
      "  File \"/home/bideen/anaconda3/lib/python3.7/site-packages/pip/_vendor/urllib3/response.py\", line 494, in stream\n",
      "    data = self.read(amt=amt, decode_content=decode_content)\n",
      "  File \"/home/bideen/anaconda3/lib/python3.7/site-packages/pip/_vendor/urllib3/response.py\", line 459, in read\n",
      "    raise IncompleteRead(self._fp_bytes_read, self.length_remaining)\n",
      "  File \"/home/bideen/anaconda3/lib/python3.7/contextlib.py\", line 130, in __exit__\n",
      "    self.gen.throw(type, value, traceback)\n",
      "  File \"/home/bideen/anaconda3/lib/python3.7/site-packages/pip/_vendor/urllib3/response.py\", line 365, in _error_catcher\n",
      "    raise ReadTimeoutError(self._pool, None, 'Read timed out.')\n",
      "pip._vendor.urllib3.exceptions.ReadTimeoutError: HTTPSConnectionPool(host='files.pythonhosted.org', port=443): Read timed out.\u001b[0m\n"
     ]
    }
   ],
   "source": [
    "! pip install tensorflow"
   ]
  },
  {
   "cell_type": "code",
   "execution_count": null,
   "metadata": {},
   "outputs": [],
   "source": []
  }
 ],
 "metadata": {
  "kernelspec": {
   "display_name": "Python 3",
   "language": "python",
   "name": "python3"
  },
  "language_info": {
   "codemirror_mode": {
    "name": "ipython",
    "version": 3
   },
   "file_extension": ".py",
   "mimetype": "text/x-python",
   "name": "python",
   "nbconvert_exporter": "python",
   "pygments_lexer": "ipython3",
   "version": "3.7.0"
  }
 },
 "nbformat": 4,
 "nbformat_minor": 2
}
